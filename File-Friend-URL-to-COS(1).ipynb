{
 "cells": [
  {
   "cell_type": "markdown",
   "metadata": {
    "collapsed": true
   },
   "source": [
    "## FILE-FRIEND-URL-to-COS-Loader"
   ]
  },
  {
   "cell_type": "code",
   "execution_count": 13,
   "metadata": {},
   "outputs": [],
   "source": [
    "#imports.... Run this each time after restarting the Kernel\n",
    "import json\n",
    "from botocore.client import Config\n",
    "import ibm_boto3\n",
    "import requests\n"
   ]
  },
  {
   "cell_type": "markdown",
   "metadata": {},
   "source": [
    "## Hardwire endpoints"
   ]
  },
  {
   "cell_type": "code",
   "execution_count": 14,
   "metadata": {},
   "outputs": [],
   "source": [
    "\n",
    "service_endpoint = 'https://s3-api.us-geo.objectstorage.softlayer.net'\n",
    "auth_endpoint = 'https://iam.bluemix.net/oidc/token'\n",
    "\n"
   ]
  },
  {
   "cell_type": "markdown",
   "metadata": {},
   "source": [
    "## Pull Creds from: CONSOLE - Dashboard > COS > Service Credentials.  Take ADMIN set.  "
   ]
  },
  {
   "cell_type": "code",
   "execution_count": 15,
   "metadata": {},
   "outputs": [],
   "source": [
    "\n",
    "cos_credentials = {\n",
    "  \"apikey\": \"########rl3Gqgd-2IMZUHGRiHZbSH9G9WrzU\",\n",
    "  \"cos_hmac_keys\": {\n",
    "    \"access_key_id\": \"#######2c4abcaf68187e036c53c5\",\n",
    "    \"secret_access_key\": \"#######cf82729381b8f5066277ead12d98f05b7cd58b\"\n",
    "  },\n",
    "  \"endpoints\": \"https://cos-service.bluemix.net/endpoints\",\n",
    "  \"iam_apikey_description\": \"Auto generated apikey during resource-key operation for Instance - crn:v1:bluemix:public:cloud-object-storage:global:a/6bd61f31ad3927791bc9b0bebfdcb749:ee080c49-f45a-468d-89da-6a7c060d055b::\",\n",
    "  \"iam_apikey_name\": \"auto-generated-apikey-######-a92c-4abc-af68-187e036c53c5\",\n",
    "  \"iam_role_crn\": \"crn:v1:bluemix:public:iam::::role:Administrator\",\n",
    "  \"iam_serviceid_crn\": \"crn:v1:bluemix:public:iam-identity::a/6bd61f31ad3927791bc9b0bebfdcb749::serviceid:ServiceId-3f31e855-2dce-4377-a143-8291529c49fb\",\n",
    "  \"resource_instance_id\": \"crn:v1:bluemix:public:cloud-object-storage:global:a/6bd61f31ad3927791bc9b0bebfdcb749:ee080c49-f45a-468d-89da-6a7c060d055b::\"\n",
    "}\n"
   ]
  },
  {
   "cell_type": "markdown",
   "metadata": {},
   "source": [
    "# COS and effect"
   ]
  },
  {
   "cell_type": "code",
   "execution_count": 16,
   "metadata": {},
   "outputs": [],
   "source": [
    "cos = ibm_boto3.resource('s3',\n",
    "                        ibm_api_key_id=cos_credentials['apikey'],\n",
    "                        ibm_service_instance_id=cos_credentials['resource_instance_id'],\n",
    "                        ibm_auth_endpoint= auth_endpoint,\n",
    "                        config=Config(signature_version='oauth'),\n",
    "                        endpoint_url= service_endpoint )\n"
   ]
  },
  {
   "cell_type": "markdown",
   "metadata": {},
   "source": [
    "# Bucket Time"
   ]
  },
  {
   "cell_type": "code",
   "execution_count": 17,
   "metadata": {},
   "outputs": [
    {
     "name": "stdout",
     "output_type": "stream",
     "text": [
      "Creating bucket “audio-data-ef54588d-bca4-4444-b490-a1e11eea8e46“...\n",
      "Creating bucket “outputs-ef54588d-bca4-4444-b490-a1e11eea8e46“...\n"
     ]
    }
   ],
   "source": [
    "from uuid import uuid4\n",
    "\n",
    "bucket_uid = str(uuid4())\n",
    "buckets = ['audio-data-' + bucket_uid, 'outputs-' + bucket_uid]\n",
    "\n",
    "for bucket in buckets:\n",
    "   if not cos.Bucket(bucket) in cos.buckets.all():\n",
    "       print('Creating bucket “{}“...'.format(bucket))\n",
    "       try:\n",
    "           cos.create_bucket(Bucket=bucket)\n",
    "       except ibm_boto3.exceptions.ibm_botocore.client.ClientError as e:\n",
    "           print('Error: {}.'.format(e.response['Error']['Message']))\n",
    "\n",
    "data_links = ['http://github.com/mamoonraja/call-center-think18/blob/master/resources/audio_samples/sample1-addresschange-positive.ogg',\n",
    "              'http://github.com/mamoonraja/call-center-think18/blob/master/resources/audio_samples/sample2-address-negative.ogg',\n",
    "              'http://github.com/mamoonraja/call-center-think18/blob/master/resources/audio_samples/sample3-shirt-return-weather-chitchat.ogg',\n",
    "              'http://github.com/mamoonraja/call-center-think18/blob/master/resources/audio_samples/sample4-angryblender-sportschitchat-recovery.ogg',\n",
    "              'http://github.com/mamoonraja/call-center-think18/blob/master/resources/audio_samples/sample5-calibration-toneandcontext.ogg',\n",
    "              'http://github.com/mamoonraja/call-center-think18/blob/master/resources/audio_samples/jfk_1961_0525_speech_to_put_man_on_moon.ogg']\n",
    "\n"
   ]
  },
  {
   "cell_type": "markdown",
   "metadata": {},
   "source": [
    "# Upload the Files "
   ]
  },
  {
   "cell_type": "code",
   "execution_count": 18,
   "metadata": {},
   "outputs": [
    {
     "name": "stdout",
     "output_type": "stream",
     "text": [
      "Uploading data sample1-addresschange-positive.ogg...\n",
      "sample1-addresschange-positive.ogg is uploaded.\n",
      "Uploading data sample2-address-negative.ogg...\n",
      "sample2-address-negative.ogg is uploaded.\n",
      "Uploading data sample3-shirt-return-weather-chitchat.ogg...\n",
      "sample3-shirt-return-weather-chitchat.ogg is uploaded.\n",
      "Uploading data sample4-angryblender-sportschitchat-recovery.ogg...\n",
      "sample4-angryblender-sportschitchat-recovery.ogg is uploaded.\n",
      "Uploading data sample5-calibration-toneandcontext.ogg...\n",
      "sample5-calibration-toneandcontext.ogg is uploaded.\n",
      "Uploading data jfk_1961_0525_speech_to_put_man_on_moon.ogg...\n",
      "jfk_1961_0525_speech_to_put_man_on_moon.ogg is uploaded.\n"
     ]
    }
   ],
   "source": [
    "import urllib\n",
    "from urllib.request import urlopen\n",
    "\n",
    "bucket_obj = cos.Bucket(buckets[0])\n",
    "\n",
    "for data_link in data_links:\n",
    "   filename=data_link.split('/')[-1]\n",
    "   print('Uploading data {}...'.format(filename))\n",
    "   with urlopen(data_link) as data:\n",
    "       bucket_obj.upload_fileobj(data, filename)\n",
    "       print('{} is uploaded.'.format(filename))\n"
   ]
  },
  {
   "cell_type": "code",
   "execution_count": null,
   "metadata": {},
   "outputs": [],
   "source": []
  }
 ],
 "metadata": {
  "kernelspec": {
   "display_name": "Python 3.5",
   "language": "python",
   "name": "python3"
  },
  "language_info": {
   "codemirror_mode": {
    "name": "ipython",
    "version": 3
   },
   "file_extension": ".py",
   "mimetype": "text/x-python",
   "name": "python",
   "nbconvert_exporter": "python",
   "pygments_lexer": "ipython3",
   "version": "3.5.4"
  }
 },
 "nbformat": 4,
 "nbformat_minor": 1
}
